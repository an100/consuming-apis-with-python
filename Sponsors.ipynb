{
 "metadata": {
  "name": "",
  "signature": "sha256:123b691a6859ab0ffdddc22d66d8625875c0e633335b2ee03914bbd26d933305"
 },
 "nbformat": 3,
 "nbformat_minor": 0,
 "worksheets": [
  {
   "cells": [
    {
     "cell_type": "code",
     "collapsed": false,
     "input": [
      "from lxml.html import fromstring\n",
      "import requests\n",
      "\n",
      "url = \"http://www.apiconsf.com/apiconsponsors\"\n",
      "doc = fromstring(requests.get(url).content)\n"
     ],
     "language": "python",
     "metadata": {},
     "outputs": [],
     "prompt_number": 1
    },
    {
     "cell_type": "code",
     "collapsed": false,
     "input": [
      "doc.cssselect(\".sponsor_bio\")"
     ],
     "language": "python",
     "metadata": {},
     "outputs": [
      {
       "metadata": {},
       "output_type": "pyout",
       "prompt_number": 2,
       "text": [
        "[<Element div at 0x103fb31b0>,\n",
        " <Element div at 0x103fb3208>,\n",
        " <Element div at 0x103fb3260>,\n",
        " <Element div at 0x103fb32b8>,\n",
        " <Element div at 0x103fb3310>,\n",
        " <Element div at 0x103fb3368>,\n",
        " <Element div at 0x103fb33c0>,\n",
        " <Element div at 0x103fb3418>,\n",
        " <Element div at 0x103fb3470>,\n",
        " <Element div at 0x103fb34c8>,\n",
        " <Element div at 0x103fb3520>,\n",
        " <Element div at 0x103fb3578>,\n",
        " <Element div at 0x103fb35d0>,\n",
        " <Element div at 0x103fb3628>,\n",
        " <Element div at 0x103fb3680>,\n",
        " <Element div at 0x103fb36d8>,\n",
        " <Element div at 0x103fb3730>]"
       ]
      }
     ],
     "prompt_number": 2
    },
    {
     "cell_type": "code",
     "collapsed": false,
     "input": [
      "# if we just want name\n",
      "print \"\\n\".join([e.text for e in doc.cssselect(\".bio_name\")])"
     ],
     "language": "python",
     "metadata": {},
     "outputs": [
      {
       "output_type": "stream",
       "stream": "stdout",
       "text": [
        "Evernote\n",
        "MuleSoft\n",
        "Concur\n",
        "Getty Images\n",
        "SecureKey\n",
        "Orchestrate\n",
        "SendGrid\n",
        "3Scale\n",
        "Restlet\n",
        "Wit.AI\n",
        "Nexmo\n",
        "Eagle Eye Networks\n",
        "Mojio\n",
        "Microsoft Azure\n",
        "Import.io\n",
        "General Assembly\n",
        "Hack Reactor\n"
       ]
      }
     ],
     "prompt_number": 3
    }
   ],
   "metadata": {}
  }
 ]
}