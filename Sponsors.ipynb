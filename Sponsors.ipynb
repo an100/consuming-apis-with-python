{
 "metadata": {
  "name": "",
  "signature": "sha256:ef98aff769997c398668957d30910a3ad6110a4491d722248a565f446a364b6c"
 },
 "nbformat": 3,
 "nbformat_minor": 0,
 "worksheets": [
  {
   "cells": [
    {
     "cell_type": "code",
     "collapsed": false,
     "input": [
      "from lxml.html import fromstring\n",
      "import requests\n",
      "\n",
      "url = \"http://www.apiconsf.com/apiconsponsors\"\n",
      "doc = fromstring(requests.get(url).content)\n"
     ],
     "language": "python",
     "metadata": {},
     "outputs": [],
     "prompt_number": 1
    },
    {
     "cell_type": "code",
     "collapsed": false,
     "input": [
      "doc.cssselect(\".sponsor_bio\")"
     ],
     "language": "python",
     "metadata": {},
     "outputs": [
      {
       "metadata": {},
       "output_type": "pyout",
       "prompt_number": 2,
       "text": [
        "[<Element div at 0x1037b21b0>,\n",
        " <Element div at 0x1037b2208>,\n",
        " <Element div at 0x1037b2260>,\n",
        " <Element div at 0x1037b22b8>,\n",
        " <Element div at 0x1037b2310>,\n",
        " <Element div at 0x1037b2368>,\n",
        " <Element div at 0x1037b23c0>,\n",
        " <Element div at 0x1037b2418>,\n",
        " <Element div at 0x1037b2470>,\n",
        " <Element div at 0x1037b24c8>,\n",
        " <Element div at 0x1037b2520>,\n",
        " <Element div at 0x1037b2578>,\n",
        " <Element div at 0x1037b25d0>,\n",
        " <Element div at 0x1037b2628>,\n",
        " <Element div at 0x1037b2680>,\n",
        " <Element div at 0x1037b26d8>,\n",
        " <Element div at 0x1037b2730>]"
       ]
      }
     ],
     "prompt_number": 2
    },
    {
     "cell_type": "code",
     "collapsed": false,
     "input": [
      "# if we just want name\n",
      "print \"\\n\".join([e.text for e in doc.cssselect(\".bio_name\")])"
     ],
     "language": "python",
     "metadata": {},
     "outputs": [
      {
       "output_type": "stream",
       "stream": "stdout",
       "text": [
        "Evernote\n",
        "MuleSoft\n",
        "Concur\n",
        "Getty Images\n",
        "SecureKey\n",
        "Orchestrate\n",
        "SendGrid\n",
        "3Scale\n",
        "Restlet\n",
        "Wit.AI\n",
        "Nexmo\n",
        "Eagle Eye Networks\n",
        "Mojio\n",
        "Microsoft Azure\n",
        "Import.io\n",
        "General Assembly\n",
        "Hack Reactor\n"
       ]
      }
     ],
     "prompt_number": 3
    }
   ],
   "metadata": {}
  }
 ]
}