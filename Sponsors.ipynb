{
 "metadata": {
  "name": "",
  "signature": "sha256:ac30f2982d6f564711147d71aacf8512c0511f8349ea3dbefdf681156963e1b0"
 },
 "nbformat": 3,
 "nbformat_minor": 0,
 "worksheets": [
  {
   "cells": [
    {
     "cell_type": "markdown",
     "metadata": {},
     "source": [
      "A simple example of scraping the apiconsf site for the list of sponsors."
     ]
    },
    {
     "cell_type": "code",
     "collapsed": false,
     "input": [
      "from lxml.html import fromstring\n",
      "import requests\n",
      "\n",
      "url = \"http://www.apiconsf.com/apiconsponsors\"\n",
      "doc = fromstring(requests.get(url).content)\n"
     ],
     "language": "python",
     "metadata": {},
     "outputs": [],
     "prompt_number": 1
    },
    {
     "cell_type": "code",
     "collapsed": false,
     "input": [
      "doc.cssselect(\".sponsor_bio\")"
     ],
     "language": "python",
     "metadata": {},
     "outputs": [
      {
       "metadata": {},
       "output_type": "pyout",
       "prompt_number": 2,
       "text": [
        "[<Element div at 0x1051339f0>,\n",
        " <Element div at 0x105133a48>,\n",
        " <Element div at 0x105133aa0>,\n",
        " <Element div at 0x105133af8>,\n",
        " <Element div at 0x105133b50>,\n",
        " <Element div at 0x105133ba8>,\n",
        " <Element div at 0x105133c00>,\n",
        " <Element div at 0x105133c58>,\n",
        " <Element div at 0x105133cb0>,\n",
        " <Element div at 0x105133d08>,\n",
        " <Element div at 0x105133d60>,\n",
        " <Element div at 0x105133db8>,\n",
        " <Element div at 0x105133e10>,\n",
        " <Element div at 0x105133e68>,\n",
        " <Element div at 0x105133ec0>,\n",
        " <Element div at 0x105133f18>,\n",
        " <Element div at 0x105133f70>]"
       ]
      }
     ],
     "prompt_number": 2
    },
    {
     "cell_type": "code",
     "collapsed": false,
     "input": [
      "# if we just want name\n",
      "print \"\\n\".join([e.text for e in doc.cssselect(\".bio_name\")])"
     ],
     "language": "python",
     "metadata": {},
     "outputs": [
      {
       "output_type": "stream",
       "stream": "stdout",
       "text": [
        "Evernote\n",
        "MuleSoft\n",
        "Concur\n",
        "Getty Images\n",
        "SecureKey\n",
        "Orchestrate\n",
        "SendGrid\n",
        "3Scale\n",
        "Restlet\n",
        "Wit.AI\n",
        "Nexmo\n",
        "Eagle Eye Networks\n",
        "Mojio\n",
        "Microsoft Azure\n",
        "Import.io\n",
        "General Assembly\n",
        "Hack Reactor\n"
       ]
      }
     ],
     "prompt_number": 3
    }
   ],
   "metadata": {}
  }
 ]
}