{
 "metadata": {
  "name": "",
  "signature": "sha256:b420541332ff32deb209d35bcda362848c87c45a2decb638e69098e454c39404"
 },
 "nbformat": 3,
 "nbformat_minor": 0,
 "worksheets": [
  {
   "cells": [
    {
     "cell_type": "markdown",
     "metadata": {},
     "source": [
      "# Outline\n",
      "\n",
      "Let's learn about consuming APIs with Python by looking at some of the simplest APIs around:  those for *geocoding*.  The process of geocoding is that of turning the names/labels of geographic entities (typically street addresses, but also things like cities, points of interest) into geographical coordinates -- typically latitude and longitude.\n",
      "\n",
      "Let's start with [geocoder.us](#Geocoder.us)\n"
     ]
    },
    {
     "cell_type": "heading",
     "level": 1,
     "metadata": {},
     "source": [
      "geocoder.us"
     ]
    },
    {
     "cell_type": "markdown",
     "metadata": {},
     "source": [
      "Go to http://geocoder.us/ and find out what the site is about:\n",
      "\n",
      "> find the latitude & longitude of any US address - for free\n",
      "\n",
      "<img src=\"https://www.evernote.com/shard/s1/sh/9a77110c-d3ec-48c8-b41a-074da933df64/3f1919509f1db26f87d7a1857c09fae6/res/d1a0177d-6644-4624-94d2-865e243c6e9f/geocoder.us__a_free_US_address_geocoder-20140611-154936.jpg.jpg?resizeSmall&width=832\"/>\n",
      "\n",
      "Reasons why it's a good service to learn from:\n",
      "\n",
      "* free for non-commercial use\n",
      "* there is a user interface to the service you can use to get a feel for what the service is about -- and whose results with which you'll be able to compare data from the API.\n",
      "\n",
      "To figure out how to use geocoder.us, click on the documentation: http://geocoder.us/help/.  There are various interfaces to the service including:\n",
      "\n",
      "* XML-RPC\n",
      "* SOAP\n",
      "* REST-RDF\n",
      "* REST-CSV\n",
      "\n",
      "We will focus here on using the REST-CSV and REST-RDF protocols.\n",
      "\n",
      "Look at the following URL in a web browser for comparison:\n",
      "\n",
      "http://rpc.geocoder.us/service/csv?address=1600+Pennsylvania+Ave,+Washington+DC\n",
      "\n",
      "See my writeup in *Pro Web 2.0 Mashups* on  [Geocoding](http://mashupguide.net/1.0/html/ch13s06.xhtml#d0e21349) for more info."
     ]
    },
    {
     "cell_type": "markdown",
     "metadata": {},
     "source": [
      "The Geocoder.us API, which is documented here:\n",
      "\n",
      "http://geocoder.us/help/\n",
      "\n",
      "Let\u2019s calculate the latitude and longitude for the White House (_1600 Pennsylvania Avenue, Washington, DC_) with different aspects of the Geocoder.us service:\n",
      "\n",
      "The Geocoder.us user interface, invoked with this:\n",
      "\n",
      "http://geocoder.us/demo.cgi?address=1600+Pennsylvania+Ave%2C+Washington+DC\n",
      "\n",
      "shows that the latitude and longitude of the address is the following:\n",
      "\n",
      "`(38.898748, -77.037684)`\n",
      "\n",
      "<img src=\"https://www.evernote.com/shard/s1/sh/2c545912-dca3-46a0-8850-6dc0ac874088/d30820345e728018a04b16f99d7ccedf/res/f3ae7e3f-798c-4f0a-8f66-f25eee90faa0/geocoder.us__a_free_US_geocoder-20140611-161019.jpg.jpg\" />"
     ]
    },
    {
     "cell_type": "heading",
     "level": 2,
     "metadata": {},
     "source": [
      "REST-CSV"
     ]
    },
    {
     "cell_type": "markdown",
     "metadata": {},
     "source": [
      "The CSV interface, invoked with this:\n",
      "\n",
      "http://rpc.geocoder.us/service/csv?address=1600+Pennsylvania+Ave,+Washington+DC\n",
      "\n",
      "returns the following:\n",
      "\n",
      "`38.898748,-77.037684,1600 Pennsylvania Ave NW,Washington,DC,20502`"
     ]
    },
    {
     "cell_type": "markdown",
     "metadata": {},
     "source": [
      "url = \"http://rpc.geocoder.us/service/csv?address=1600+Pennsylvania+Ave,+Washington+DC\""
     ]
    },
    {
     "cell_type": "code",
     "collapsed": false,
     "input": [
      "# let's break out the address explicitly\n",
      "\n",
      "import urllib\n",
      "\n",
      "url = \"http://rpc.geocoder.us/service/csv?\" + \\\n",
      "        urllib.urlencode({\n",
      "           'address':'1600 Pennsylvania Ave, Washington DC'\n",
      "})\n",
      "    \n",
      "url"
     ],
     "language": "python",
     "metadata": {},
     "outputs": [
      {
       "metadata": {},
       "output_type": "pyout",
       "prompt_number": 1,
       "text": [
        "'http://rpc.geocoder.us/service/csv?address=1600+Pennsylvania+Ave%2C+Washington+DC'"
       ]
      }
     ],
     "prompt_number": 1
    },
    {
     "cell_type": "code",
     "collapsed": false,
     "input": [
      "import requests\n",
      "\n",
      "url = \"http://rpc.geocoder.us/service/csv?address=1600+Pennsylvania+Ave,+Washington+DC\"\n",
      "r = requests.get(url).content\n",
      "r.split(\",\")"
     ],
     "language": "python",
     "metadata": {},
     "outputs": [
      {
       "metadata": {},
       "output_type": "pyout",
       "prompt_number": 2,
       "text": [
        "['38.898748',\n",
        " '-77.037684',\n",
        " '1600 Pennsylvania Ave NW',\n",
        " 'Washington',\n",
        " 'DC',\n",
        " '20502\\n']"
       ]
      }
     ],
     "prompt_number": 2
    },
    {
     "cell_type": "markdown",
     "metadata": {},
     "source": [
      "Sage cell version: http://bit.ly/SNZs0L\n",
      "\n",
      "how to embed: https://sagecell.sagemath.org/static/about.html?v=15adefe8b7e89fcf49eda7af5303abd4"
     ]
    },
    {
     "cell_type": "markdown",
     "metadata": {},
     "source": [
      "##REST-RDF\n",
      "\n",
      "The REST interface, through this:\n",
      "\n",
      "http://geocoder.us/service/rest/?address=1600+Pennsylvania+Ave,+Washington+DC\n",
      "\n",
      "returns the following:\n",
      "\n",
      "\n",
      "    <rdf:RDF xmlns:dc=\"http://purl.org/dc/elements/1.1/\" xmlns:geo=\"http://www.w3.org/2003/01/geo/wgs84_pos#\" xmlns:rdf=\"http://www.w3.org/1999/02/22-rdf-syntax-ns#\">\n",
      "        <geo:Point rdf:nodeID=\"aid54380535\">\n",
      "            <dc:description>1600 Pennsylvania Ave NW, Washington DC 20502</dc:description>\n",
      "            <geo:long>-77.037684</geo:long>\n",
      "            <geo:lat>38.898748</geo:lat>\n",
      "        </geo:Point>\n",
      "    </rdf:RDF>\n",
      "               "
     ]
    },
    {
     "cell_type": "code",
     "collapsed": false,
     "input": [
      "import requests\n",
      "\n",
      "# http://geocoder.us/service/rest/?address=1600+Pennsylvania+Ave,+Washington+DC\n",
      "    \n",
      "url = \"http://geocoder.us/service/rest/?address=1600+Pennsylvania+Ave,+Washington+DC\"\n",
      "r = requests.get(url).text\n",
      "print r\n"
     ],
     "language": "python",
     "metadata": {},
     "outputs": [
      {
       "output_type": "stream",
       "stream": "stdout",
       "text": [
        "<?xml version=\"1.0\"?>\n",
        "<rdf:RDF\n",
        "xmlns:dc=\"http://purl.org/dc/elements/1.1/\"\n",
        "xmlns:geo=\"http://www.w3.org/2003/01/geo/wgs84_pos#\"\n",
        "xmlns:rdf=\"http://www.w3.org/1999/02/22-rdf-syntax-ns#\"\n",
        ">\n",
        "<geo:Point rdf:nodeID=\"aid73539021\">\n",
        "<dc:description>1600 Pennsylvania Ave NW, Washington DC 20502</dc:description>\n",
        "<geo:long>-77.037684</geo:long>\n",
        "<geo:lat>38.898748</geo:lat>\n",
        "</geo:Point>\n",
        "</rdf:RDF>\n",
        "\n"
       ]
      }
     ],
     "prompt_number": 3
    },
    {
     "cell_type": "markdown",
     "metadata": {},
     "source": [
      "We can use the excellent [lxml](http://lxml.de/) library to parse the latitude and longitude."
     ]
    },
    {
     "cell_type": "code",
     "collapsed": false,
     "input": [
      "from lxml.etree import fromstring\n",
      "\n",
      "NS = {'geo':'http://www.w3.org/2003/01/geo/wgs84_pos#'}\n",
      "doc = fromstring(r)\n",
      "\n",
      "(float(doc.find(\".//{%s}lat\" % (NS['geo'])).text), \n",
      " float(doc.find(\".//{%s}long\" % (NS['geo'])).text))\n"
     ],
     "language": "python",
     "metadata": {},
     "outputs": [
      {
       "metadata": {},
       "output_type": "pyout",
       "prompt_number": 4,
       "text": [
        "(38.898748, -77.037684)"
       ]
      }
     ],
     "prompt_number": 4
    },
    {
     "cell_type": "markdown",
     "metadata": {},
     "source": [
      "Alternatively, let's look for a standard library approach -- for this example, we don't need to install `lxml` but rather just use the standard `xml.etree` library.\n",
      "\n",
      "https://docs.python.org/2/library/xml.etree.elementtree.html"
     ]
    },
    {
     "cell_type": "code",
     "collapsed": false,
     "input": [
      "import xml.etree.ElementTree as ET\n",
      "tree = ET.fromstring(r)\n",
      "tree"
     ],
     "language": "python",
     "metadata": {},
     "outputs": [
      {
       "metadata": {},
       "output_type": "pyout",
       "prompt_number": 5,
       "text": [
        "<Element '{http://www.w3.org/1999/02/22-rdf-syntax-ns#}RDF' at 0x104ca87d0>"
       ]
      }
     ],
     "prompt_number": 5
    },
    {
     "cell_type": "code",
     "collapsed": false,
     "input": [
      "(float(tree.find(\".//{%s}lat\" % (NS['geo'])).text), \n",
      " float(tree.find(\".//{%s}long\" % (NS['geo'])).text))"
     ],
     "language": "python",
     "metadata": {},
     "outputs": [
      {
       "metadata": {},
       "output_type": "pyout",
       "prompt_number": 6,
       "text": [
        "(38.898748, -77.037684)"
       ]
      }
     ],
     "prompt_number": 6
    }
   ],
   "metadata": {}
  }
 ]
}