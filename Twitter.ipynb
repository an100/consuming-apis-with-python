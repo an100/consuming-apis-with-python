{
 "metadata": {
  "name": "",
  "signature": "sha256:28200d08d6ac0059218cbd085cec3f96aed082ad8d386ba8aef708d40b7e810f"
 },
 "nbformat": 3,
 "nbformat_minor": 0,
 "worksheets": [
  {
   "cells": [
    {
     "cell_type": "markdown",
     "metadata": {},
     "source": [
      "lots of Twitter Python libraries: [Twitter Libraries | Twitter Developers](https://dev.twitter.com/docs/twitter-libraries#python)\n",
      "\n",
      "I have a little bit of experience with [tweepy/tweepy](https://github.com/tweepy/tweepy).\n",
      "\n",
      "easiest way to install is\n",
      "\n",
      "    pip install tweepy\n",
      "    "
     ]
    },
    {
     "cell_type": "markdown",
     "metadata": {},
     "source": [
      "create a new app: https://apps.twitter.com/app/new to get token.\n",
      "        \n",
      "Set the appropriate permission level"
     ]
    },
    {
     "cell_type": "code",
     "collapsed": false,
     "input": [
      "import os\n",
      "import sys\n",
      "import pickle\n",
      "import tweepy\n",
      "\n",
      "from settings import (TWITTER_CONSUMER_KEY,\n",
      "                      TWITTER_CONSUMER_SECRET,\n",
      "                      TWITTER_ACCESS_TOKEN, \n",
      "                      TWITTER_ACCESS_TOKEN_SECRET)\n",
      "\n",
      "import numpy as np\n",
      "import pandas as pd\n",
      "import matplotlib.pyplot as plt\n",
      "from pandas import Series, DataFrame\n",
      "\n",
      "TWITTER_HANDLE = 'rdhyee'"
     ],
     "language": "python",
     "metadata": {},
     "outputs": []
    },
    {
     "cell_type": "code",
     "collapsed": false,
     "input": [
      "# http://tweepy.readthedocs.org/en/v2.3.0/getting_started.html\n",
      "\n",
      "auth = tweepy.OAuthHandler(TWITTER_CONSUMER_KEY, TWITTER_CONSUMER_SECRET)\n",
      "auth.set_access_token(TWITTER_ACCESS_TOKEN, TWITTER_ACCESS_TOKEN_SECRET)\n",
      "\n",
      "api = tweepy.API(auth)\n",
      "\n",
      "public_tweets = api.home_timeline()\n",
      "for tweet in public_tweets:\n",
      "    print tweet.text"
     ],
     "language": "python",
     "metadata": {},
     "outputs": []
    },
    {
     "cell_type": "code",
     "collapsed": false,
     "input": [
      "# a \"hello world\" identity decorator, written to get a handle on the concept.\n",
      "\n",
      "def identity(func):\n",
      "    def newf(*args, **kwargs):\n",
      "        return func(*args, **kwargs)\n",
      "    return newf\n",
      "\n",
      "# this decorator is used to handle those tweepy calls whose results can be paged via a cursor.\n",
      "# http://pythonhosted.org/tweepy/html/cursor_tutorial.html\n",
      "\n",
      "def cursorize(func):\n",
      "    def newf(*args, **kwargs):\n",
      "        for item in tweepy.Cursor(func, *args, **kwargs).items():\n",
      "            yield item\n",
      "\n",
      "    return newf\n"
     ],
     "language": "python",
     "metadata": {},
     "outputs": []
    },
    {
     "cell_type": "code",
     "collapsed": false,
     "input": [
      "from itertools import islice\n",
      "\n",
      "follower_ids = list(cursorize(api.followers_ids)(screen_name=TWITTER_HANDLE))\n",
      "friend_ids = list(cursorize(api.friends_ids)(screen_name=TWITTER_HANDLE))\n"
     ],
     "language": "python",
     "metadata": {},
     "outputs": []
    },
    {
     "cell_type": "code",
     "collapsed": false,
     "input": [
      "follower_ids"
     ],
     "language": "python",
     "metadata": {},
     "outputs": []
    },
    {
     "cell_type": "code",
     "collapsed": false,
     "input": [
      "api.update_status(\"hello using tweepy\")"
     ],
     "language": "python",
     "metadata": {},
     "outputs": []
    }
   ],
   "metadata": {}
  }
 ]
}