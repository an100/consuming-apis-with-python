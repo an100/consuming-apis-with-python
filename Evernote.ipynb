{
 "metadata": {
  "name": "",
  "signature": "sha256:90113336c5b9c94749b35f6eef632838a905b1a8ff93c3660db4d309372f304e"
 },
 "nbformat": 3,
 "nbformat_minor": 0,
 "worksheets": [
  {
   "cells": [
    {
     "cell_type": "markdown",
     "metadata": {},
     "source": [
      "How to get started?\n",
      "\n",
      "[Home - Evernote Developers](http://dev.evernote.com/)\n",
      "\n",
      "[evernote/evernote-sdk-python](https://github.com/evernote/evernote-sdk-python)\n",
      "\n",
      "    git clone https://github.com/evernote/evernote-sdk-python.git\n",
      "    \n",
      "To install:\n",
      "\n",
      "    pip install git+git://github.com/evernote/evernote-sdk-python.git\n",
      "\n",
      "get a dev token (that will give you access to your own account) at [Developer Tokens](https://www.evernote.com/api/DeveloperToken.action) and work through [Evernote Cloud API \u2014 Python Quick-start Guide - Evernote Developers](http://dev.evernote.com/doc/start/python.php)\n",
      "\n",
      "see more [rdhyee/evernote-web-utility](https://github.com/rdhyee/evernote-web-utility)"
     ]
    },
    {
     "cell_type": "code",
     "collapsed": false,
     "input": [
      "from settings import EVERNOTE_DEV_TOKEN\n",
      "from evernote.api.client import EvernoteClient"
     ],
     "language": "python",
     "metadata": {},
     "outputs": [],
     "prompt_number": 1
    },
    {
     "cell_type": "code",
     "collapsed": false,
     "input": [
      "# https://gist.githubusercontent.com/evernotegists/5313860/raw/example.py\n",
      "# note the sandbox=False\n",
      "\n",
      "client = EvernoteClient(token=EVERNOTE_DEV_TOKEN, sandbox=False)\n",
      "userStore = client.get_user_store()\n",
      "user = userStore.getUser()\n",
      "print user.username"
     ],
     "language": "python",
     "metadata": {},
     "outputs": [
      {
       "output_type": "stream",
       "stream": "stdout",
       "text": [
        "rdhyee\n"
       ]
      }
     ],
     "prompt_number": 2
    },
    {
     "cell_type": "code",
     "collapsed": false,
     "input": [],
     "language": "python",
     "metadata": {},
     "outputs": [],
     "prompt_number": 2
    }
   ],
   "metadata": {}
  }
 ]
}