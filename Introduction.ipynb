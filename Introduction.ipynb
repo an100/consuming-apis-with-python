{
 "metadata": {
  "name": "",
  "signature": "sha256:86f0a1000f2c24dcad1742ec89fea9675d6c56407b9ba456b76e1d5da59b380f"
 },
 "nbformat": 3,
 "nbformat_minor": 0,
 "worksheets": [
  {
   "cells": [
    {
     "cell_type": "markdown",
     "metadata": {},
     "source": [
      "installation\n",
      "\n",
      "conda\n",
      "\n",
      "Conceptual overview\n",
      "\n",
      "Requests library: [Requests: HTTP for Humans \u2014 Requests 2.3.0 documentation](http://docs.python-requests.org/en/latest/)\n"
     ]
    },
    {
     "cell_type": "markdown",
     "metadata": {},
     "source": [
      "# What APIs to cover?\n",
      "\n",
      "* geocoder.us -- simple to understand and use?"
     ]
    },
    {
     "cell_type": "heading",
     "level": 1,
     "metadata": {},
     "source": [
      "Geocoder.us"
     ]
    },
    {
     "cell_type": "markdown",
     "metadata": {},
     "source": [
      "http://geocoder.us/\n",
      "\n",
      "* free for non-commercial use\n",
      "\n",
      "http://rpc.geocoder.us/service/csv?address=1600+Pennsylvania+Ave,+Washington+DC"
     ]
    },
    {
     "cell_type": "code",
     "collapsed": false,
     "input": [
      "url = \"http://rpc.geocoder.us/service/csv?address=1600+Pennsylvania+Ave,+Washington+DC\""
     ],
     "language": "python",
     "metadata": {},
     "outputs": [],
     "prompt_number": 1
    },
    {
     "cell_type": "code",
     "collapsed": false,
     "input": [
      "import requests\n",
      "r = requests.get(url).content\n",
      "r.split(\",\")"
     ],
     "language": "python",
     "metadata": {},
     "outputs": [
      {
       "metadata": {},
       "output_type": "pyout",
       "prompt_number": 3,
       "text": [
        "['38.898748',\n",
        " '-77.037684',\n",
        " '1600 Pennsylvania Ave NW',\n",
        " 'Washington',\n",
        " 'DC',\n",
        " '20502\\n']"
       ]
      }
     ],
     "prompt_number": 3
    }
   ],
   "metadata": {}
  }
 ]
}